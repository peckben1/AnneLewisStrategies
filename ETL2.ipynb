{
 "cells": [
  {
   "cell_type": "code",
   "execution_count": 1,
   "metadata": {},
   "outputs": [],
   "source": [
    "import numpy as np, pandas as pd"
   ]
  },
  {
   "cell_type": "code",
   "execution_count": 2,
   "metadata": {},
   "outputs": [],
   "source": [
    "# Read in the \"people\" file output in the previous exercise\n",
    "people = pd.read_csv('./data/people.csv')"
   ]
  },
  {
   "cell_type": "code",
   "execution_count": 3,
   "metadata": {},
   "outputs": [],
   "source": [
    "# For the second part of the ETL exercise, creating the \"acquisitions\" file, I'm going to make a copy of part of this df to work with\n",
    "acquisitions = people.drop(columns=['code', 'is_unsub'])"
   ]
  },
  {
   "cell_type": "code",
   "execution_count": 4,
   "metadata": {},
   "outputs": [
    {
     "data": {
      "text/html": [
       "<div>\n",
       "<style scoped>\n",
       "    .dataframe tbody tr th:only-of-type {\n",
       "        vertical-align: middle;\n",
       "    }\n",
       "\n",
       "    .dataframe tbody tr th {\n",
       "        vertical-align: top;\n",
       "    }\n",
       "\n",
       "    .dataframe thead th {\n",
       "        text-align: right;\n",
       "    }\n",
       "</style>\n",
       "<table border=\"1\" class=\"dataframe\">\n",
       "  <thead>\n",
       "    <tr style=\"text-align: right;\">\n",
       "      <th></th>\n",
       "      <th>email</th>\n",
       "      <th>created_dt</th>\n",
       "      <th>updated_dt</th>\n",
       "    </tr>\n",
       "  </thead>\n",
       "  <tbody>\n",
       "    <tr>\n",
       "      <th>0</th>\n",
       "      <td>xmartinez@vincent.com</td>\n",
       "      <td>Tue, 1997-09-30 01:41:35</td>\n",
       "      <td>Thu, 1981-02-26 19:36:22</td>\n",
       "    </tr>\n",
       "    <tr>\n",
       "      <th>1</th>\n",
       "      <td>hmiller@haynes.biz</td>\n",
       "      <td>Thu, 2014-03-27 23:18:18</td>\n",
       "      <td>Mon, 2012-12-10 18:46:32</td>\n",
       "    </tr>\n",
       "    <tr>\n",
       "      <th>2</th>\n",
       "      <td>aaron64@yahoo.com</td>\n",
       "      <td>Mon, 1992-06-01 06:07:45</td>\n",
       "      <td>Mon, 1986-07-28 03:41:12</td>\n",
       "    </tr>\n",
       "    <tr>\n",
       "      <th>3</th>\n",
       "      <td>wyattvincent@hotmail.com</td>\n",
       "      <td>Sun, 1993-05-23 08:00:18</td>\n",
       "      <td>Sat, 1983-05-07 09:29:18</td>\n",
       "    </tr>\n",
       "    <tr>\n",
       "      <th>4</th>\n",
       "      <td>tspencer@hotmail.com</td>\n",
       "      <td>Fri, 1986-10-31 03:24:05</td>\n",
       "      <td>Sat, 1979-09-22 05:01:01</td>\n",
       "    </tr>\n",
       "  </tbody>\n",
       "</table>\n",
       "</div>"
      ],
      "text/plain": [
       "                      email                created_dt  \\\n",
       "0     xmartinez@vincent.com  Tue, 1997-09-30 01:41:35   \n",
       "1        hmiller@haynes.biz  Thu, 2014-03-27 23:18:18   \n",
       "2         aaron64@yahoo.com  Mon, 1992-06-01 06:07:45   \n",
       "3  wyattvincent@hotmail.com  Sun, 1993-05-23 08:00:18   \n",
       "4      tspencer@hotmail.com  Fri, 1986-10-31 03:24:05   \n",
       "\n",
       "                 updated_dt  \n",
       "0  Thu, 1981-02-26 19:36:22  \n",
       "1  Mon, 2012-12-10 18:46:32  \n",
       "2  Mon, 1986-07-28 03:41:12  \n",
       "3  Sat, 1983-05-07 09:29:18  \n",
       "4  Sat, 1979-09-22 05:01:01  "
      ]
     },
     "execution_count": 4,
     "metadata": {},
     "output_type": "execute_result"
    }
   ],
   "source": [
    "# so far, so good\n",
    "acquisitions.head()"
   ]
  },
  {
   "cell_type": "code",
   "execution_count": 5,
   "metadata": {},
   "outputs": [],
   "source": [
    "# We don't need the times for this, just the actual dates. I'm just going to slice the last nine characters off the created_dt column\n",
    "acquisitions['created_dt'] = [entry[:-9] for entry in acquisitions['created_dt']]"
   ]
  },
  {
   "cell_type": "code",
   "execution_count": 6,
   "metadata": {},
   "outputs": [
    {
     "name": "stdout",
     "output_type": "stream",
     "text": [
      "605525 18445\n"
     ]
    }
   ],
   "source": [
    "# Slight problem here - there are still more than eighteen thousand unique creation dates, though that's significantly reduced from the original\n",
    "print(len(people['created_dt'].unique()), len(acquisitions['created_dt'].unique()))"
   ]
  },
  {
   "cell_type": "code",
   "execution_count": 7,
   "metadata": {},
   "outputs": [],
   "source": [
    "# Using a groupby to create the actual \"acquisition_facts\" data, counting the number of emails added on each unique day\n",
    "acquisition_facts = acquisitions[['email', 'created_dt']].groupby(by=['created_dt'], as_index=False).count()"
   ]
  },
  {
   "cell_type": "code",
   "execution_count": 8,
   "metadata": {},
   "outputs": [
    {
     "data": {
      "text/html": [
       "<div>\n",
       "<style scoped>\n",
       "    .dataframe tbody tr th:only-of-type {\n",
       "        vertical-align: middle;\n",
       "    }\n",
       "\n",
       "    .dataframe tbody tr th {\n",
       "        vertical-align: top;\n",
       "    }\n",
       "\n",
       "    .dataframe thead th {\n",
       "        text-align: right;\n",
       "    }\n",
       "</style>\n",
       "<table border=\"1\" class=\"dataframe\">\n",
       "  <thead>\n",
       "    <tr style=\"text-align: right;\">\n",
       "      <th></th>\n",
       "      <th>created_dt</th>\n",
       "      <th>email</th>\n",
       "    </tr>\n",
       "  </thead>\n",
       "  <tbody>\n",
       "    <tr>\n",
       "      <th>0</th>\n",
       "      <td>Fri, 1970-01-02</td>\n",
       "      <td>34</td>\n",
       "    </tr>\n",
       "    <tr>\n",
       "      <th>1</th>\n",
       "      <td>Fri, 1970-01-09</td>\n",
       "      <td>37</td>\n",
       "    </tr>\n",
       "    <tr>\n",
       "      <th>2</th>\n",
       "      <td>Fri, 1970-01-16</td>\n",
       "      <td>42</td>\n",
       "    </tr>\n",
       "    <tr>\n",
       "      <th>3</th>\n",
       "      <td>Fri, 1970-01-23</td>\n",
       "      <td>34</td>\n",
       "    </tr>\n",
       "    <tr>\n",
       "      <th>4</th>\n",
       "      <td>Fri, 1970-01-30</td>\n",
       "      <td>39</td>\n",
       "    </tr>\n",
       "  </tbody>\n",
       "</table>\n",
       "</div>"
      ],
      "text/plain": [
       "        created_dt  email\n",
       "0  Fri, 1970-01-02     34\n",
       "1  Fri, 1970-01-09     37\n",
       "2  Fri, 1970-01-16     42\n",
       "3  Fri, 1970-01-23     34\n",
       "4  Fri, 1970-01-30     39"
      ]
     },
     "execution_count": 8,
     "metadata": {},
     "output_type": "execute_result"
    }
   ],
   "source": [
    "# Looks good to me!\n",
    "acquisition_facts.head()"
   ]
  },
  {
   "cell_type": "code",
   "execution_count": 9,
   "metadata": {},
   "outputs": [
    {
     "name": "stdout",
     "output_type": "stream",
     "text": [
      "<class 'pandas.core.frame.DataFrame'>\n",
      "Int64Index: 18445 entries, 0 to 18444\n",
      "Data columns (total 2 columns):\n",
      " #   Column      Non-Null Count  Dtype \n",
      "---  ------      --------------  ----- \n",
      " 0   created_dt  18445 non-null  object\n",
      " 1   email       18445 non-null  int64 \n",
      "dtypes: int64(1), object(1)\n",
      "memory usage: 432.3+ KB\n"
     ]
    }
   ],
   "source": [
    "acquisition_facts.info()"
   ]
  },
  {
   "cell_type": "code",
   "execution_count": 10,
   "metadata": {},
   "outputs": [],
   "source": [
    "# Renaming columns to those specified by the schema\n",
    "acquisition_facts.rename(columns={'created_dt': 'acquisition_date', 'email': 'acquisitions'}, inplace=True)"
   ]
  },
  {
   "cell_type": "code",
   "execution_count": 11,
   "metadata": {},
   "outputs": [
    {
     "data": {
      "text/html": [
       "<div>\n",
       "<style scoped>\n",
       "    .dataframe tbody tr th:only-of-type {\n",
       "        vertical-align: middle;\n",
       "    }\n",
       "\n",
       "    .dataframe tbody tr th {\n",
       "        vertical-align: top;\n",
       "    }\n",
       "\n",
       "    .dataframe thead th {\n",
       "        text-align: right;\n",
       "    }\n",
       "</style>\n",
       "<table border=\"1\" class=\"dataframe\">\n",
       "  <thead>\n",
       "    <tr style=\"text-align: right;\">\n",
       "      <th></th>\n",
       "      <th>acquisition_date</th>\n",
       "      <th>acquisitions</th>\n",
       "    </tr>\n",
       "  </thead>\n",
       "  <tbody>\n",
       "    <tr>\n",
       "      <th>0</th>\n",
       "      <td>Fri, 1970-01-02</td>\n",
       "      <td>34</td>\n",
       "    </tr>\n",
       "    <tr>\n",
       "      <th>1</th>\n",
       "      <td>Fri, 1970-01-09</td>\n",
       "      <td>37</td>\n",
       "    </tr>\n",
       "    <tr>\n",
       "      <th>2</th>\n",
       "      <td>Fri, 1970-01-16</td>\n",
       "      <td>42</td>\n",
       "    </tr>\n",
       "    <tr>\n",
       "      <th>3</th>\n",
       "      <td>Fri, 1970-01-23</td>\n",
       "      <td>34</td>\n",
       "    </tr>\n",
       "    <tr>\n",
       "      <th>4</th>\n",
       "      <td>Fri, 1970-01-30</td>\n",
       "      <td>39</td>\n",
       "    </tr>\n",
       "  </tbody>\n",
       "</table>\n",
       "</div>"
      ],
      "text/plain": [
       "  acquisition_date  acquisitions\n",
       "0  Fri, 1970-01-02            34\n",
       "1  Fri, 1970-01-09            37\n",
       "2  Fri, 1970-01-16            42\n",
       "3  Fri, 1970-01-23            34\n",
       "4  Fri, 1970-01-30            39"
      ]
     },
     "execution_count": 11,
     "metadata": {},
     "output_type": "execute_result"
    }
   ],
   "source": [
    "# looks good\n",
    "acquisition_facts.head()"
   ]
  },
  {
   "cell_type": "code",
   "execution_count": 12,
   "metadata": {},
   "outputs": [],
   "source": [
    "# And now to write to csv\n",
    "acquisition_facts.to_csv('./data/acquisition_facts.csv', index=False)"
   ]
  },
  {
   "cell_type": "code",
   "execution_count": null,
   "metadata": {},
   "outputs": [],
   "source": []
  }
 ],
 "metadata": {
  "kernelspec": {
   "display_name": "Python 3",
   "language": "python",
   "name": "python3"
  },
  "language_info": {
   "codemirror_mode": {
    "name": "ipython",
    "version": 3
   },
   "file_extension": ".py",
   "mimetype": "text/x-python",
   "name": "python",
   "nbconvert_exporter": "python",
   "pygments_lexer": "ipython3",
   "version": "3.7.6"
  }
 },
 "nbformat": 4,
 "nbformat_minor": 4
}
